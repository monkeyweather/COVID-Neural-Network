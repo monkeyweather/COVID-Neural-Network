{
  "nbformat": 4,
  "nbformat_minor": 0,
  "metadata": {
    "colab": {
      "name": "VGGfinalsubmission.ipynb",
      "provenance": [],
      "collapsed_sections": []
    },
    "kernelspec": {
      "name": "python3",
      "display_name": "Python 3"
    },
    "language_info": {
      "name": "python"
    },
    "accelerator": "GPU"
  },
  "cells": [
    {
      "cell_type": "markdown",
      "source": [
        "### **VGG 16**"
      ],
      "metadata": {
        "id": "5xdidRpR_r45"
      }
    },
    {
      "cell_type": "markdown",
      "source": [
        "Imports"
      ],
      "metadata": {
        "id": "-sELrPRD_ywe"
      }
    },
    {
      "cell_type": "code",
      "source": [
        "from google.colab import drive\n",
        "import os\n",
        "import shutil\n",
        "from tensorflow.keras.preprocessing.image import ImageDataGenerator\n",
        "from sklearn.metrics import classification_report\n",
        "from sklearn.metrics import confusion_matrix\n",
        "import matplotlib.pyplot as plt\n",
        "import tensorflow as tf\n",
        "import numpy as np\n",
        "import itertools\n",
        "import pandas\n",
        "import seaborn as sns\n",
        "sns.set_style('darkgrid')\n",
        "import random\n",
        "import keras\n",
        "import warnings\n",
        "warnings.filterwarnings('ignore')\n",
        "from sklearn.model_selection import train_test_split\n",
        "from keras.preprocessing.image import load_img\n",
        "from keras.preprocessing.image import img_to_array\n",
        "from keras.preprocessing.image import ImageDataGenerator\n",
        "from keras.layers import Dense, Flatten, AveragePooling2D, Dropout\n",
        "from tensorflow.keras.optimizers import Adam\n",
        "from keras.applications.vgg16 import VGG16\n",
        "from keras.models import Model\n",
        "import matplotlib.cm as cm\n",
        "import cv2"
      ],
      "metadata": {
        "id": "g_LJ5yj3_w-D"
      },
      "execution_count": 36,
      "outputs": []
    },
    {
      "cell_type": "markdown",
      "source": [
        "Check if Connected to GPU"
      ],
      "metadata": {
        "id": "CsuJJjB8JWWi"
      }
    },
    {
      "cell_type": "code",
      "source": [
        "%tensorflow_version 2.x\n",
        "import tensorflow as tf\n",
        "device_name = tf.test.gpu_device_name()\n",
        "if device_name != '/device:GPU:0':\n",
        "  raise SystemError('GPU device not found')\n",
        "print('Found GPU at: {}'.format(device_name))\n",
        "gpu_info = !nvidia-smi\n",
        "gpu_info = '\\n'.join(gpu_info)\n",
        "if gpu_info.find('failed') >= 0:\n",
        "  print('Not connected to a GPU')\n",
        "else:\n",
        "  print(gpu_info)"
      ],
      "metadata": {
        "colab": {
          "base_uri": "https://localhost:8080/",
          "height": 235
        },
        "id": "SuFoP4CdJYSa",
        "outputId": "ffe286e5-75d9-4efb-b2cd-cf60132451fd"
      },
      "execution_count": 10,
      "outputs": [
        {
          "output_type": "error",
          "ename": "SystemError",
          "evalue": "ignored",
          "traceback": [
            "\u001b[0;31m---------------------------------------------------------------------------\u001b[0m",
            "\u001b[0;31mSystemError\u001b[0m                               Traceback (most recent call last)",
            "\u001b[0;32m<ipython-input-10-590b903660fe>\u001b[0m in \u001b[0;36m<module>\u001b[0;34m()\u001b[0m\n\u001b[1;32m      3\u001b[0m \u001b[0mdevice_name\u001b[0m \u001b[0;34m=\u001b[0m \u001b[0mtf\u001b[0m\u001b[0;34m.\u001b[0m\u001b[0mtest\u001b[0m\u001b[0;34m.\u001b[0m\u001b[0mgpu_device_name\u001b[0m\u001b[0;34m(\u001b[0m\u001b[0;34m)\u001b[0m\u001b[0;34m\u001b[0m\u001b[0;34m\u001b[0m\u001b[0m\n\u001b[1;32m      4\u001b[0m \u001b[0;32mif\u001b[0m \u001b[0mdevice_name\u001b[0m \u001b[0;34m!=\u001b[0m \u001b[0;34m'/device:GPU:0'\u001b[0m\u001b[0;34m:\u001b[0m\u001b[0;34m\u001b[0m\u001b[0;34m\u001b[0m\u001b[0m\n\u001b[0;32m----> 5\u001b[0;31m   \u001b[0;32mraise\u001b[0m \u001b[0mSystemError\u001b[0m\u001b[0;34m(\u001b[0m\u001b[0;34m'GPU device not found'\u001b[0m\u001b[0;34m)\u001b[0m\u001b[0;34m\u001b[0m\u001b[0;34m\u001b[0m\u001b[0m\n\u001b[0m\u001b[1;32m      6\u001b[0m \u001b[0mprint\u001b[0m\u001b[0;34m(\u001b[0m\u001b[0;34m'Found GPU at: {}'\u001b[0m\u001b[0;34m.\u001b[0m\u001b[0mformat\u001b[0m\u001b[0;34m(\u001b[0m\u001b[0mdevice_name\u001b[0m\u001b[0;34m)\u001b[0m\u001b[0;34m)\u001b[0m\u001b[0;34m\u001b[0m\u001b[0;34m\u001b[0m\u001b[0m\n\u001b[1;32m      7\u001b[0m \u001b[0mgpu_info\u001b[0m \u001b[0;34m=\u001b[0m \u001b[0mget_ipython\u001b[0m\u001b[0;34m(\u001b[0m\u001b[0;34m)\u001b[0m\u001b[0;34m.\u001b[0m\u001b[0mgetoutput\u001b[0m\u001b[0;34m(\u001b[0m\u001b[0;34m'nvidia-smi'\u001b[0m\u001b[0;34m)\u001b[0m\u001b[0;34m\u001b[0m\u001b[0;34m\u001b[0m\u001b[0m\n",
            "\u001b[0;31mSystemError\u001b[0m: GPU device not found"
          ]
        }
      ]
    },
    {
      "cell_type": "markdown",
      "source": [
        "Mount Drive"
      ],
      "metadata": {
        "id": "J785LLRrEFVz"
      }
    },
    {
      "cell_type": "code",
      "source": [
        "drive.mount(\"/content/gdrive\", force_remount=True)"
      ],
      "metadata": {
        "colab": {
          "base_uri": "https://localhost:8080/"
        },
        "id": "Hr6rUTLBELA8",
        "outputId": "68b0f12e-d54d-4da5-c5eb-b2ce15d347e8"
      },
      "execution_count": 4,
      "outputs": [
        {
          "output_type": "stream",
          "name": "stdout",
          "text": [
            "Mounted at /content/gdrive\n"
          ]
        }
      ]
    },
    {
      "cell_type": "markdown",
      "source": [
        "Data Download\n"
      ],
      "metadata": {
        "id": "xIBQ89NUEUCN"
      }
    },
    {
      "cell_type": "code",
      "source": [
        "os.environ['KAGGLE_CONFIG_DIR'] = \"/content/gdrive/MyDrive/Kaggle\"\n",
        "%cd /content/gdrive/MyDrive/Kaggle\n",
        "!kaggle datasets download -d tawsifurrahman/covid19-radiography-database\n",
        "!unzip \\*.zip  && rm *.zip\n",
        "data_path = \"/content/gdrive/MyDrive/vgg\"\n",
        "os.mkdir(data_path)\n",
        "data_path_train = \"/content/gdrive/MyDrive/vgg/train\"\n",
        "os.mkdir(data_path_train)\n",
        "data_path_val = \"/content/gdrive/MyDrive/vgg/validation\"\n",
        "os.mkdir(data_path_val)\n",
        "data_path_test = \"/content/gdrive/MyDrive/vgg/test\"\n",
        "os.mkdir(data_path_test)\n",
        "data_path_train_c = \"/content/gdrive/MyDrive/vgg/train/covid\"\n",
        "os.mkdir(data_path_train_c)\n",
        "data_path_val_c = \"/content/gdrive/MyDrive/vgg/validation/covid\"\n",
        "os.mkdir(data_path_val_c)\n",
        "data_path_test_c = \"/content/gdrive/MyDrive/vgg/test/covid\"\n",
        "os.mkdir(data_path_test_c)\n",
        "covid_train = ['COVID-{}.png'.format(i) for i in range(1,1001)]\n",
        "for ct in covid_train:\n",
        "    src1 = os.path.join('/content/gdrive/MyDrive/Kaggle/COVID-19_Radiography_Dataset/COVID/images', ct)\n",
        "    dst1 = os.path.join('/content/gdrive/MyDrive/vgg/train/covid', ct)\n",
        "    shutil.copyfile(src1, dst1)\n",
        "covid_val = ['COVID-{}.png'.format(i) for i in range(1001,1201)]\n",
        "for cv in covid_val:\n",
        "    src2 = os.path.join('/content/gdrive/MyDrive/Kaggle/COVID-19_Radiography_Dataset/COVID/images', cv)\n",
        "    dst2 = os.path.join('/content/gdrive/MyDrive/vgg/validation/covid', cv)\n",
        "    shutil.copyfile(src2, dst2)\n",
        "covid_test = ['COVID-{}.png'.format(i) for i in range(1201,1301)]\n",
        "for ce in covid_test:\n",
        "    src3 = os.path.join('/content/gdrive/MyDrive/Kaggle/COVID-19_Radiography_Dataset/COVID/images', ce)\n",
        "    dst3 = os.path.join('/content/gdrive/MyDrive/vgg/test/covid', ce)\n",
        "    shutil.copyfile(src3, dst3)\n",
        "data_path_train_n = \"/content/gdrive/MyDrive/vgg/train/normal\"\n",
        "os.mkdir(data_path_train_n)\n",
        "data_path_val_n = \"/content/gdrive/MyDrive/vgg/validation/normal\"\n",
        "os.mkdir(data_path_val_n)\n",
        "data_path_test_n = \"/content/gdrive/MyDrive/vgg/test/normal\"\n",
        "os.mkdir(data_path_test_n)\n",
        "normal_train = ['Normal-{}.png'.format(i) for i in range(1,1001)]\n",
        "for nt in normal_train:\n",
        "    src4 = os.path.join('/content/gdrive/MyDrive/Kaggle/COVID-19_Radiography_Dataset/Normal/images', nt)\n",
        "    dst4 = os.path.join('/content/gdrive/MyDrive/vgg/train/normal', nt)\n",
        "    shutil.copyfile(src4, dst4)\n",
        "normal_val = ['Normal-{}.png'.format(i) for i in range(1001,1201)]\n",
        "for nv in normal_val:\n",
        "    src5 = os.path.join('/content/gdrive/MyDrive/Kaggle/COVID-19_Radiography_Dataset/Normal/images', nv)\n",
        "    dst5 = os.path.join('/content/gdrive/MyDrive/vgg/validation/normal', nv)\n",
        "    shutil.copyfile(src5, dst5)\n",
        "normal_test = ['Normal-{}.png'.format(i) for i in range(1201,1301)]\n",
        "for ne in normal_test:\n",
        "    src6 = os.path.join('/content/gdrive/MyDrive/Kaggle/COVID-19_Radiography_Dataset/Normal/images', ne)\n",
        "    dst6 = os.path.join('/content/gdrive/MyDrive/vgg/test/normal', ne)\n",
        "    shutil.copyfile(src6, dst6)\n",
        "data_path_train_v = \"/content/gdrive/MyDrive/vgg/train/viral_pneumonia\"\n",
        "os.mkdir(data_path_train_v)\n",
        "data_path_val_v = \"/content/gdrive/MyDrive/vgg/validation/viral_pneumonia\"\n",
        "os.mkdir(data_path_val_v)\n",
        "data_path_test_v = \"/content/gdrive/MyDrive/vgg/test/viral_pneumonia\"\n",
        "os.mkdir(data_path_test_v)\n",
        "viral_train = ['Viral Pneumonia-{}.png'.format(i) for i in range(1,1001)]\n",
        "for vt in viral_train:\n",
        "    src7 = os.path.join('/content/gdrive/MyDrive/Kaggle/COVID-19_Radiography_Dataset/Viral Pneumonia/images', vt)\n",
        "    dst7 = os.path.join('/content/gdrive/MyDrive/vgg/train/viral_pneumonia', vt)\n",
        "    shutil.copyfile(src7, dst7)\n",
        "viral_val = ['Viral Pneumonia-{}.png'.format(i) for i in range(1001,1201)]\n",
        "for vv in viral_val:\n",
        "    src8 = os.path.join('/content/gdrive/MyDrive/Kaggle/COVID-19_Radiography_Dataset/Viral Pneumonia/images', vv)\n",
        "    dst8 = os.path.join('/content/gdrive/MyDrive/vgg/validation/viral_pneumonia', vv)\n",
        "    shutil.copyfile(src8, dst8)\n",
        "viral_test = ['Viral Pneumonia-{}.png'.format(i) for i in range(1201,1301)]\n",
        "for ve in viral_test:\n",
        "    src9 = os.path.join('/content/gdrive/MyDrive/Kaggle/COVID-19_Radiography_Dataset/Viral Pneumonia/images', ve)\n",
        "    dst9 = os.path.join('/content/gdrive/MyDrive/vgg/test/viral_pneumonia', ve)\n",
        "    shutil.copyfile(src9, dst9)"
      ],
      "metadata": {
        "id": "-C2N1HVsETGh"
      },
      "execution_count": null,
      "outputs": []
    },
    {
      "cell_type": "markdown",
      "source": [
        "Setting Data Paths"
      ],
      "metadata": {
        "id": "XAzRqzcgFLt8"
      }
    },
    {
      "cell_type": "code",
      "source": [
        "data_path = \"/content/gdrive/MyDrive/vgg\"\n",
        "data_path_train = \"/content/gdrive/MyDrive/vgg/train\"\n",
        "data_path_val = \"/content/gdrive/MyDrive/vgg/validation\"\n",
        "data_path_test = \"/content/gdrive/MyDrive/vgg/test\"\n",
        "data_path_train_c = \"/content/gdrive/MyDrive/vgg/train/covid\"\n",
        "data_path_val_c = \"/content/gdrive/MyDrive/vgg/validation/covid\"\n",
        "data_path_test_c = \"/content/gdrive/MyDrive/vgg/test/covid\"\n",
        "data_path_train_n = \"/content/gdrive/MyDrive/vgg/train/normal\"\n",
        "data_path_val_n = \"/content/gdrive/MyDrive/vgg/validation/normal\"\n",
        "data_path_test_n = \"/content/gdrive/MyDrive/vgg/test/normal\"\n",
        "data_path_train_v = \"/content/gdrive/MyDrive/vgg/train/viral_pneumonia\"\n",
        "data_path_val_v = \"/content/gdrive/MyDrive/vgg/validation/viral_pneumonia\"\n",
        "data_path_test_v = \"/content/gdrive/MyDrive/vgg/test/viral_pneumonia\""
      ],
      "metadata": {
        "id": "8ciqWA-dFNfJ"
      },
      "execution_count": 5,
      "outputs": []
    },
    {
      "cell_type": "markdown",
      "source": [
        "Preprocessing"
      ],
      "metadata": {
        "id": "_WAO4VbpFeaN"
      }
    },
    {
      "cell_type": "code",
      "source": [
        "os.environ[\"CUDA_VISIBLE_DEVICES\"] = \"-1\"\n",
        "image_height = 224\n",
        "image_width = 224\n",
        "batch_size = 64\n",
        "train_data_configuration = ImageDataGenerator(rescale = 1./255, rotation_range=45, height_shift_range=0.2, width_shift_range=0.2, shear_range = 0.2, zoom_range=0.2,\n",
        "                                                horizontal_flip = True, fill_mode ='nearest')\n",
        "train_dataset = train_data_configuration.flow_from_directory(directory=data_path_train, target_size=(image_height,image_width), batch_size=batch_size, class_mode='categorical', shuffle=True)\n",
        "validation_data_configuration = ImageDataGenerator(rescale=1./255)\n",
        "validation_dataset = validation_data_configuration.flow_from_directory(directory=data_path_val, target_size=(image_height,image_width), batch_size =batch_size, class_mode='categorical', shuffle=False)\n",
        "test_data_configuration = ImageDataGenerator(rescale=1./255)\n",
        "test_dataset = test_data_configuration.flow_from_directory(directory=data_path_test, target_size=(image_height,image_width), batch_size =batch_size, class_mode='categorical', shuffle=False)\n",
        "print(train_dataset.n)\n",
        "print(validation_dataset.n)\n",
        "print(test_dataset.n)"
      ],
      "metadata": {
        "colab": {
          "base_uri": "https://localhost:8080/"
        },
        "id": "I4ez1dyzFdhM",
        "outputId": "14b7ff79-899f-4306-8143-7856a69356ba"
      },
      "execution_count": 6,
      "outputs": [
        {
          "output_type": "stream",
          "name": "stdout",
          "text": [
            "Found 3000 images belonging to 3 classes.\n",
            "Found 600 images belonging to 3 classes.\n",
            "Found 300 images belonging to 3 classes.\n",
            "3000\n",
            "600\n",
            "300\n"
          ]
        }
      ]
    },
    {
      "cell_type": "markdown",
      "source": [
        "VGG Architecture Setup"
      ],
      "metadata": {
        "id": "kLg11uO0GHsT"
      }
    },
    {
      "cell_type": "code",
      "source": [
        "base = VGG16(input_shape=(224,224,3), weights='imagenet', include_top=False)\n",
        "for layer in base.layers:\n",
        "    layer.trainable = False\n",
        "head = base.output\n",
        "head = AveragePooling2D()(head)\n",
        "head = Flatten()(head)\n",
        "head = Dense(128, activation=\"relu\")(head)\n",
        "head = Dropout(0.2)(head)\n",
        "head = Dense(3, activation='softmax')(head)\n",
        "model = Model(inputs=base.input, outputs=head)\n",
        "model.summary()"
      ],
      "metadata": {
        "colab": {
          "base_uri": "https://localhost:8080/"
        },
        "id": "ub7U01yQGG4h",
        "outputId": "6bca77ce-880b-47f3-81f5-323173074195"
      },
      "execution_count": 7,
      "outputs": [
        {
          "output_type": "stream",
          "name": "stdout",
          "text": [
            "Downloading data from https://storage.googleapis.com/tensorflow/keras-applications/vgg16/vgg16_weights_tf_dim_ordering_tf_kernels_notop.h5\n",
            "58892288/58889256 [==============================] - 0s 0us/step\n",
            "58900480/58889256 [==============================] - 0s 0us/step\n",
            "Model: \"model\"\n",
            "_________________________________________________________________\n",
            " Layer (type)                Output Shape              Param #   \n",
            "=================================================================\n",
            " input_1 (InputLayer)        [(None, 224, 224, 3)]     0         \n",
            "                                                                 \n",
            " block1_conv1 (Conv2D)       (None, 224, 224, 64)      1792      \n",
            "                                                                 \n",
            " block1_conv2 (Conv2D)       (None, 224, 224, 64)      36928     \n",
            "                                                                 \n",
            " block1_pool (MaxPooling2D)  (None, 112, 112, 64)      0         \n",
            "                                                                 \n",
            " block2_conv1 (Conv2D)       (None, 112, 112, 128)     73856     \n",
            "                                                                 \n",
            " block2_conv2 (Conv2D)       (None, 112, 112, 128)     147584    \n",
            "                                                                 \n",
            " block2_pool (MaxPooling2D)  (None, 56, 56, 128)       0         \n",
            "                                                                 \n",
            " block3_conv1 (Conv2D)       (None, 56, 56, 256)       295168    \n",
            "                                                                 \n",
            " block3_conv2 (Conv2D)       (None, 56, 56, 256)       590080    \n",
            "                                                                 \n",
            " block3_conv3 (Conv2D)       (None, 56, 56, 256)       590080    \n",
            "                                                                 \n",
            " block3_pool (MaxPooling2D)  (None, 28, 28, 256)       0         \n",
            "                                                                 \n",
            " block4_conv1 (Conv2D)       (None, 28, 28, 512)       1180160   \n",
            "                                                                 \n",
            " block4_conv2 (Conv2D)       (None, 28, 28, 512)       2359808   \n",
            "                                                                 \n",
            " block4_conv3 (Conv2D)       (None, 28, 28, 512)       2359808   \n",
            "                                                                 \n",
            " block4_pool (MaxPooling2D)  (None, 14, 14, 512)       0         \n",
            "                                                                 \n",
            " block5_conv1 (Conv2D)       (None, 14, 14, 512)       2359808   \n",
            "                                                                 \n",
            " block5_conv2 (Conv2D)       (None, 14, 14, 512)       2359808   \n",
            "                                                                 \n",
            " block5_conv3 (Conv2D)       (None, 14, 14, 512)       2359808   \n",
            "                                                                 \n",
            " block5_pool (MaxPooling2D)  (None, 7, 7, 512)         0         \n",
            "                                                                 \n",
            " average_pooling2d (AverageP  (None, 3, 3, 512)        0         \n",
            " ooling2D)                                                       \n",
            "                                                                 \n",
            " flatten (Flatten)           (None, 4608)              0         \n",
            "                                                                 \n",
            " dense (Dense)               (None, 128)               589952    \n",
            "                                                                 \n",
            " dropout (Dropout)           (None, 128)               0         \n",
            "                                                                 \n",
            " dense_1 (Dense)             (None, 3)                 387       \n",
            "                                                                 \n",
            "=================================================================\n",
            "Total params: 15,305,027\n",
            "Trainable params: 590,339\n",
            "Non-trainable params: 14,714,688\n",
            "_________________________________________________________________\n"
          ]
        }
      ]
    },
    {
      "cell_type": "markdown",
      "source": [
        "Optimizer and Run VGG"
      ],
      "metadata": {
        "id": "J2rt1R1cJKQO"
      }
    },
    {
      "cell_type": "code",
      "source": [
        "optimizer = Adam(learning_rate=0.0001)\n",
        "model.compile(optimizer=optimizer, loss='categorical_crossentropy', metrics=['accuracy'])\n",
        "epochs = 3\n",
        "model_output = model.fit_generator(train_dataset, validation_data=validation_dataset, verbose=1, epochs=epochs)"
      ],
      "metadata": {
        "colab": {
          "base_uri": "https://localhost:8080/"
        },
        "id": "vPSzXgLvJMsv",
        "outputId": "1f338a17-9e83-4f5a-fe71-f93cdae436fe"
      },
      "execution_count": 18,
      "outputs": [
        {
          "output_type": "stream",
          "name": "stdout",
          "text": [
            "Epoch 1/3\n",
            "47/47 [==============================] - 1485s 32s/step - loss: 0.4306 - accuracy: 0.8603 - val_loss: 0.3548 - val_accuracy: 0.8717\n",
            "Epoch 2/3\n",
            "47/47 [==============================] - 1457s 31s/step - loss: 0.3837 - accuracy: 0.8717 - val_loss: 0.4599 - val_accuracy: 0.8033\n",
            "Epoch 3/3\n",
            "47/47 [==============================] - 1462s 31s/step - loss: 0.3617 - accuracy: 0.8790 - val_loss: 0.3383 - val_accuracy: 0.8583\n"
          ]
        }
      ]
    },
    {
      "cell_type": "markdown",
      "source": [
        "Save VGG"
      ],
      "metadata": {
        "id": "_XC55egPRkyh"
      }
    },
    {
      "cell_type": "code",
      "source": [
        "model.save('cp.h5')"
      ],
      "metadata": {
        "id": "SQ4VT57JRlsw"
      },
      "execution_count": 31,
      "outputs": []
    },
    {
      "cell_type": "markdown",
      "source": [
        "Setting Up/Printing Graphs\n",
        "\n",
        "\n"
      ],
      "metadata": {
        "id": "Z2uX1Hu0NG5y"
      }
    },
    {
      "cell_type": "code",
      "source": [
        "train_steps_per_epoch = train_dataset.samples//batch_size\n",
        "validation_steps_per_epoch = validation_dataset.samples//batch_size\n",
        "test_steps_per_epoch = test_dataset.samples//batch_size\n",
        "train_accuracy = model_output.history['accuracy']\n",
        "validation_accuracy = model_output.history['val_accuracy']\n",
        "train_loss = model_output.history['loss']\n",
        "validation_loss = model_output.history['val_loss']\n",
        "epochs_values = []\n",
        "for i in range(1, epochs + 1):\n",
        "    epochs_values.append(i)\n",
        "plt.figure(figsize=(10,5))\n",
        "plt.plot(epochs_values, train_accuracy, label='Train')\n",
        "plt.plot(epochs_values, validation_accuracy, label='Validation')\n",
        "plt.legend()\n",
        "plt.xlabel('Epochs')\n",
        "plt.title('Accuracy of Train and Validation')\n",
        "#plt.savefig('train_validation_accuracy.jpg')\n",
        "plt.show()\n",
        "plt.figure(figsize=(10,5))\n",
        "plt.plot(epochs_values, train_loss, label='Train')\n",
        "plt.plot(epochs_values, validation_loss, label='Validation')\n",
        "plt.legend()\n",
        "plt.xlabel('Epochs')\n",
        "plt.title('Loss in Train and Validation')\n",
        "#plt.savefig('train_validation_loss.jpg')\n",
        "plt.show()"
      ],
      "metadata": {
        "colab": {
          "base_uri": "https://localhost:8080/",
          "height": 683
        },
        "id": "IUfxI5wxNLjL",
        "outputId": "257b19b7-1a36-4c33-d9fa-1d73ea5c3af9"
      },
      "execution_count": 43,
      "outputs": [
        {
          "output_type": "display_data",
          "data": {
            "text/plain": [
              "<Figure size 720x360 with 1 Axes>"
            ],
            "image/png": "[encoded data removed]"
          },
          "metadata": {}
        },
        {
          "output_type": "display_data",
          "data": {
            "text/plain": [
              "<Figure size 720x360 with 1 Axes>"
            ],
            "image/png": "[encoded data removed]"
          },
          "metadata": {}
        }
      ]
    },
    {
      "cell_type": "markdown",
      "source": [
        "Confusion Matrix"
      ],
      "metadata": {
        "id": "IEZTURZJOWbO"
      }
    },
    {
      "cell_type": "code",
      "source": [
        "test_prediction = model.predict_generator(test_dataset,test_steps_per_epoch+1)\n",
        "test_prediction_classes = np.argmax(test_prediction,axis=1)"
      ],
      "metadata": {
        "id": "9QF1a9CFYk79"
      },
      "execution_count": 44,
      "outputs": []
    },
    {
      "cell_type": "code",
      "source": [
        "confusion_matrix_result = confusion_matrix(test_dataset.classes, test_prediction_classes)\n",
        "#print(\"The confusion matrix is:\",confusion_matrix_result)"
      ],
      "metadata": {
        "id": "Iu86-UVP4zjF"
      },
      "execution_count": null,
      "outputs": []
    },
    {
      "cell_type": "code",
      "source": [
        "def confusion_matrix(confusion_matrix, label_names):\n",
        "    accuracy_rate = np.trace(confusion_matrix)/float(np.sum(confusion_matrix))\n",
        "    error_rate = 1 - accuracy_rate\n",
        "    plt.figure(figsize=(10, 8))\n",
        "    plt.imshow(confusion_matrix, interpolation='nearest', cmap=plt.get_cmap('Blues'))\n",
        "    plt.title('Confusion matrix')\n",
        "    plt.colorbar()\n",
        "    tick = np.arange(len(label_names))\n",
        "    plt.xticks(tick, label_names, rotation=45)\n",
        "    plt.yticks(tick, label_names)\n",
        "    confusion_mat = np.round(confusion_matrix.astype('float32') / confusion_matrix.sum(axis=1), 2)\n",
        "    threshold = confusion_mat.max() / 1.5\n",
        "    matrix_product = itertools.product(range(confusion_mat.shape[0]), range(confusion_mat.shape[1]))\n",
        "    for i, j in matrix_product:\n",
        "        plt.text(j, i, \"{:0.2f}\".format(confusion_mat[i, j]), horizontalalignment=\"center\", color=\"white\" if confusion_mat[i, j] > threshold else \"black\")\n",
        "    plt.tight_layout()\n",
        "    plt.ylabel('Target class')\n",
        "    plt.xlabel(\"Output class\\n accuracy rate = {:0.2f}\\n error rate = {:0.2f}\".format(accuracy_rate, error_rate))\n",
        "    #plt.savefig('confusion_matrix.jpg')\n",
        "    plt.show()\n"
      ],
      "metadata": {
        "id": "6qGMEopTOUyt"
      },
      "execution_count": 45,
      "outputs": []
    },
    {
      "cell_type": "code",
      "source": [
        "labels = [\"covid\", \"normal\", \"viral_pneumonia\"]\n",
        "confusion_matrix(confusion_matrix_result, label_names=labels)\n",
        "report = classification_report(test_dataset.classes, test_prediction_classes, target_names=labels, output_dict=True)\n",
        "report_df = pandas.DataFrame(report).transpose()\n",
        "print(report)"
      ],
      "metadata": {
        "colab": {
          "base_uri": "https://localhost:8080/",
          "height": 660
        },
        "id": "tNIPvHm_YTt4",
        "outputId": "7ba8e1f2-69b7-4cb1-bd0a-da8b12ae30f2"
      },
      "execution_count": 49,
      "outputs": [
        {
          "output_type": "display_data",
          "data": {
            "text/plain": [
              "<Figure size 720x576 with 2 Axes>"
            ],
            "image/png": "[encoded data removed]"
          },
          "metadata": {}
        },
        {
          "output_type": "stream",
          "name": "stdout",
          "text": [
            "{'covid': {'precision': 1.0, 'recall': 0.97, 'f1-score': 0.9847715736040609, 'support': 100}, 'normal': {'precision': 0.776, 'recall': 0.97, 'f1-score': 0.8622222222222223, 'support': 100}, 'viral_pneumonia': {'precision': 0.9358974358974359, 'recall': 0.73, 'f1-score': 0.8202247191011236, 'support': 100}, 'accuracy': 0.89, 'macro avg': {'precision': 0.9039658119658119, 'recall': 0.89, 'f1-score': 0.8890728383091355, 'support': 300}, 'weighted avg': {'precision': 0.903965811965812, 'recall': 0.89, 'f1-score': 0.8890728383091355, 'support': 300}}\n"
          ]
        }
      ]
    }
  ]
}